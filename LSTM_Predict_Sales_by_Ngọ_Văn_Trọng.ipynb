{
  "nbformat": 4,
  "nbformat_minor": 0,
  "metadata": {
    "colab": {
      "provenance": [],
      "authorship_tag": "ABX9TyPkUimhpdDh14lpli9qz+rY",
      "include_colab_link": true
    },
    "kernelspec": {
      "name": "python3",
      "display_name": "Python 3"
    },
    "language_info": {
      "name": "python"
    }
  },
  "cells": [
    {
      "cell_type": "markdown",
      "metadata": {
        "id": "view-in-github",
        "colab_type": "text"
      },
      "source": [
        "<a href=\"https://colab.research.google.com/github/TrongNgoVan/App_SystemManageEmployee/blob/master/LSTM_Predict_Sales_by_Ng%E1%BB%8D_V%C4%83n_Tr%E1%BB%8Dng.ipynb\" target=\"_parent\"><img src=\"https://colab.research.google.com/assets/colab-badge.svg\" alt=\"Open In Colab\"/></a>"
      ]
    },
    {
      "cell_type": "code",
      "execution_count": null,
      "metadata": {
        "colab": {
          "base_uri": "https://localhost:8080/"
        },
        "id": "Bk8olCu78SSc",
        "outputId": "a1c54907-7c58-427a-b76a-ab62e77b651d"
      },
      "outputs": [
        {
          "output_type": "stream",
          "name": "stdout",
          "text": [
            "Requirement already satisfied: torch in /usr/local/lib/python3.10/dist-packages (2.4.1+cu121)\n",
            "Requirement already satisfied: torchvision in /usr/local/lib/python3.10/dist-packages (0.19.1+cu121)\n",
            "Requirement already satisfied: filelock in /usr/local/lib/python3.10/dist-packages (from torch) (3.16.1)\n",
            "Requirement already satisfied: typing-extensions>=4.8.0 in /usr/local/lib/python3.10/dist-packages (from torch) (4.12.2)\n",
            "Requirement already satisfied: sympy in /usr/local/lib/python3.10/dist-packages (from torch) (1.13.3)\n",
            "Requirement already satisfied: networkx in /usr/local/lib/python3.10/dist-packages (from torch) (3.3)\n",
            "Requirement already satisfied: jinja2 in /usr/local/lib/python3.10/dist-packages (from torch) (3.1.4)\n",
            "Requirement already satisfied: fsspec in /usr/local/lib/python3.10/dist-packages (from torch) (2024.6.1)\n",
            "Requirement already satisfied: numpy in /usr/local/lib/python3.10/dist-packages (from torchvision) (1.26.4)\n",
            "Requirement already satisfied: pillow!=8.3.*,>=5.3.0 in /usr/local/lib/python3.10/dist-packages (from torchvision) (10.4.0)\n",
            "Requirement already satisfied: MarkupSafe>=2.0 in /usr/local/lib/python3.10/dist-packages (from jinja2->torch) (2.1.5)\n",
            "Requirement already satisfied: mpmath<1.4,>=1.1.0 in /usr/local/lib/python3.10/dist-packages (from sympy->torch) (1.3.0)\n",
            "Requirement already satisfied: scikit-learn in /usr/local/lib/python3.10/dist-packages (1.5.2)\n",
            "Requirement already satisfied: numpy>=1.19.5 in /usr/local/lib/python3.10/dist-packages (from scikit-learn) (1.26.4)\n",
            "Requirement already satisfied: scipy>=1.6.0 in /usr/local/lib/python3.10/dist-packages (from scikit-learn) (1.13.1)\n",
            "Requirement already satisfied: joblib>=1.2.0 in /usr/local/lib/python3.10/dist-packages (from scikit-learn) (1.4.2)\n",
            "Requirement already satisfied: threadpoolctl>=3.1.0 in /usr/local/lib/python3.10/dist-packages (from scikit-learn) (3.5.0)\n"
          ]
        }
      ],
      "source": [
        "!pip install torch torchvision  # Cài đặt PyTorch và các gói liên quan\n",
        "!pip install scikit-learn  # Cài đặt scikit-learn\n"
      ]
    },
    {
      "cell_type": "code",
      "source": [
        "from google.colab import drive\n",
        "drive.mount('/content/drive')\n"
      ],
      "metadata": {
        "id": "vpmw0B_7BOgp",
        "colab": {
          "base_uri": "https://localhost:8080/"
        },
        "outputId": "045ed06c-2018-4963-fe08-50411ad43993"
      },
      "execution_count": null,
      "outputs": [
        {
          "output_type": "stream",
          "name": "stdout",
          "text": [
            "Drive already mounted at /content/drive; to attempt to forcibly remount, call drive.mount(\"/content/drive\", force_remount=True).\n"
          ]
        }
      ]
    },
    {
      "cell_type": "code",
      "source": [
        "!pip install openpyxl\n"
      ],
      "metadata": {
        "colab": {
          "base_uri": "https://localhost:8080/"
        },
        "id": "oevLXt9n3kNq",
        "outputId": "7875f52f-b088-4319-a95f-b07c28991165"
      },
      "execution_count": null,
      "outputs": [
        {
          "output_type": "stream",
          "name": "stdout",
          "text": [
            "Requirement already satisfied: openpyxl in /usr/local/lib/python3.10/dist-packages (3.1.5)\n",
            "Requirement already satisfied: et-xmlfile in /usr/local/lib/python3.10/dist-packages (from openpyxl) (1.1.0)\n"
          ]
        }
      ]
    },
    {
      "cell_type": "code",
      "source": [
        "!pip install prophet\n"
      ],
      "metadata": {
        "colab": {
          "base_uri": "https://localhost:8080/"
        },
        "id": "KtdI7iSjKm3v",
        "outputId": "bacc3436-cb78-458f-8586-ebae6fb88a1c"
      },
      "execution_count": null,
      "outputs": [
        {
          "output_type": "stream",
          "name": "stdout",
          "text": [
            "Requirement already satisfied: prophet in /usr/local/lib/python3.10/dist-packages (1.1.5)\n",
            "Requirement already satisfied: cmdstanpy>=1.0.4 in /usr/local/lib/python3.10/dist-packages (from prophet) (1.2.4)\n",
            "Requirement already satisfied: numpy>=1.15.4 in /usr/local/lib/python3.10/dist-packages (from prophet) (1.26.4)\n",
            "Requirement already satisfied: matplotlib>=2.0.0 in /usr/local/lib/python3.10/dist-packages (from prophet) (3.7.1)\n",
            "Requirement already satisfied: pandas>=1.0.4 in /usr/local/lib/python3.10/dist-packages (from prophet) (2.1.4)\n",
            "Requirement already satisfied: holidays>=0.25 in /usr/local/lib/python3.10/dist-packages (from prophet) (0.57)\n",
            "Requirement already satisfied: tqdm>=4.36.1 in /usr/local/lib/python3.10/dist-packages (from prophet) (4.66.5)\n",
            "Requirement already satisfied: importlib-resources in /usr/local/lib/python3.10/dist-packages (from prophet) (6.4.5)\n",
            "Requirement already satisfied: stanio<2.0.0,>=0.4.0 in /usr/local/lib/python3.10/dist-packages (from cmdstanpy>=1.0.4->prophet) (0.5.1)\n",
            "Requirement already satisfied: python-dateutil in /usr/local/lib/python3.10/dist-packages (from holidays>=0.25->prophet) (2.8.2)\n",
            "Requirement already satisfied: contourpy>=1.0.1 in /usr/local/lib/python3.10/dist-packages (from matplotlib>=2.0.0->prophet) (1.3.0)\n",
            "Requirement already satisfied: cycler>=0.10 in /usr/local/lib/python3.10/dist-packages (from matplotlib>=2.0.0->prophet) (0.12.1)\n",
            "Requirement already satisfied: fonttools>=4.22.0 in /usr/local/lib/python3.10/dist-packages (from matplotlib>=2.0.0->prophet) (4.53.1)\n",
            "Requirement already satisfied: kiwisolver>=1.0.1 in /usr/local/lib/python3.10/dist-packages (from matplotlib>=2.0.0->prophet) (1.4.7)\n",
            "Requirement already satisfied: packaging>=20.0 in /usr/local/lib/python3.10/dist-packages (from matplotlib>=2.0.0->prophet) (24.1)\n",
            "Requirement already satisfied: pillow>=6.2.0 in /usr/local/lib/python3.10/dist-packages (from matplotlib>=2.0.0->prophet) (10.4.0)\n",
            "Requirement already satisfied: pyparsing>=2.3.1 in /usr/local/lib/python3.10/dist-packages (from matplotlib>=2.0.0->prophet) (3.1.4)\n",
            "Requirement already satisfied: pytz>=2020.1 in /usr/local/lib/python3.10/dist-packages (from pandas>=1.0.4->prophet) (2024.2)\n",
            "Requirement already satisfied: tzdata>=2022.1 in /usr/local/lib/python3.10/dist-packages (from pandas>=1.0.4->prophet) (2024.1)\n",
            "Requirement already satisfied: six>=1.5 in /usr/local/lib/python3.10/dist-packages (from python-dateutil->holidays>=0.25->prophet) (1.16.0)\n"
          ]
        }
      ]
    },
    {
      "cell_type": "code",
      "source": [
        "import numpy as np\n",
        "import pandas as pd\n",
        "import torch\n",
        "import torch.nn as nn\n",
        "import torch.optim as optim\n",
        "from sklearn.preprocessing import MinMaxScaler\n",
        "\n",
        "# Đường dẫn đến file CSV\n",
        "file_path = '/content/PreprocessingData.csv'\n",
        "\n",
        "# Đọc file CSV\n",
        "df = pd.read_csv(file_path)\n",
        "# Loại bỏ khoảng trắng ở đầu và cuối tên cột\n",
        "df.columns = df.columns.str.strip()\n",
        "# Bỏ cột không cần thiết\n",
        "df = df.drop(columns=['Unnamed: 0'])\n",
        "\n",
        "# Chuyển đổi cột 'Ngày:' thành kiểu datetime (nếu cần)\n",
        "df['Ngày:'] = pd.to_datetime(df['Ngày:'])\n",
        "\n",
        "# Chọn các cột dữ liệu số\n",
        "df_data = df.iloc[:, 1:]  # Bỏ cột 'Ngày:', chỉ giữ lại các cột dữ liệu số\n",
        "\n",
        "# Chuyển đổi tất cả các cột thành kiểu số (nếu cần)\n",
        "df_data = df_data.apply(pd.to_numeric, errors='coerce')\n",
        "\n",
        "# Xử lý giá trị NaN: Thay thế NaN bằng giá trị trung bình\n",
        "df_data = df_data.fillna(df_data.mean())\n",
        "\n",
        "# Kiểm tra lại dữ liệu sau khi chuyển đổi\n",
        "print(df_data.head())\n",
        "print(\"Số lượng giá trị NaN còn lại trong mỗi cột:\\n\", df_data.isnull().sum())\n",
        "\n",
        "# Chuẩn hóa dữ liệu\n",
        "scaler = MinMaxScaler(feature_range=(0, 1))\n",
        "data = scaler.fit_transform(df_data)  # Chuẩn hóa các cột dữ liệu\n",
        "\n",
        "# Tạo tập dữ liệu với nhiều biến đầu vào\n",
        "def create_dataset(data, time_step=1):\n",
        "    X, y = [], []\n",
        "    for i in range(len(data) - time_step):\n",
        "        X.append(data[i:(i + time_step), :])  # Lấy tất cả các cột\n",
        "        y.append(data[i + time_step, :])  # Dự đoán tất cả các cột\n",
        "    return np.array(X), np.array(y)\n",
        "\n",
        "# Số bước thời gian của chuỗi\n",
        "time_step = 10  # Có thể điều chỉnh nếu cần\n",
        "X, y = create_dataset(data, time_step)\n",
        "X = X.reshape(X.shape[0], X.shape[1], X.shape[2])  # Giữ nguyên số lượng cột\n",
        "\n",
        "# Tạo mô hình LSTM\n",
        "class LSTMModel(nn.Module):\n",
        "    def __init__(self, input_size, output_size, hidden_size=50, num_layers=1):\n",
        "        super(LSTMModel, self).__init__()\n",
        "        self.lstm = nn.LSTM(input_size, hidden_size, num_layers, batch_first=True)\n",
        "        self.fc = nn.Linear(hidden_size, output_size)  # Số cột output có thể khác với số cột input\n",
        "\n",
        "    def forward(self, x):\n",
        "        out, _ = self.lstm(x)\n",
        "        out = self.fc(out[:, -1, :])  # Lấy đầu ra của bước cuối cùng\n",
        "        return out\n",
        "\n",
        "# Khởi tạo mô hình, loss và optimizer\n",
        "input_size = X.shape[2]  # Số lượng cột đầu vào\n",
        "output_size = X.shape[2]  # Dự đoán tất cả các cột\n",
        "model = LSTMModel(input_size=input_size, output_size=output_size)\n",
        "criterion = nn.MSELoss()\n",
        "optimizer = optim.Adam(model.parameters(), lr=0.001)\n",
        "\n",
        "# Chia dữ liệu thành tập huấn luyện và kiểm tra\n",
        "train_size = int(len(X) * 0.7)\n",
        "X_train, X_test = X[:train_size], X[train_size:]\n",
        "y_train, y_test = y[:train_size], y[train_size:]\n",
        "\n",
        "# Huấn luyện mô hình\n",
        "num_epochs = 100\n",
        "for epoch in range(num_epochs):\n",
        "    model.train()\n",
        "    optimizer.zero_grad()\n",
        "    outputs = model(torch.FloatTensor(X_train))\n",
        "    loss = criterion(outputs, torch.FloatTensor(y_train))\n",
        "    loss.backward()\n",
        "    optimizer.step()\n",
        "    if (epoch + 1) % 10 == 0:\n",
        "        print(f'Epoch [{epoch + 1}/{num_epochs}], Loss: {loss.item():.4f}')\n",
        "\n",
        "# Dự đoán cho tập kiểm tra\n",
        "model.eval()\n",
        "test_predict = model(torch.FloatTensor(X_test)).detach().numpy()\n",
        "\n",
        "# Dự đoán 3 ngày tiếp theo (dựa trên dữ liệu cuối cùng trong tập test)\n",
        "input_data = X_test[-1].reshape(1, time_step, input_size)  # Dữ liệu cuối cùng trong tập test\n",
        "predictions = []\n",
        "for _ in range(3):  # Dự đoán cho 3 ngày tiếp theo\n",
        "    pred = model(torch.FloatTensor(input_data)).detach().numpy()\n",
        "    predictions.append(pred)\n",
        "    # Cập nhật input_data với dự đoán mới\n",
        "    input_data = np.append(input_data[:, 1:, :], pred.reshape(1, 1, input_size), axis=1)\n",
        "\n",
        "# Chuyển predictions thành numpy array và ngược lại thang đo gốc\n",
        "predictions = np.array(predictions).reshape(3, output_size)  # 3 ngày, số lượng cột bằng với output\n",
        "predictions_original_scale = scaler.inverse_transform(predictions)\n",
        "\n",
        "# In dự đoán đã được chuyển đổi về thang đo gốc\n",
        "print(\"Dự đoán cho 3 ngày tiếp theo (giá trị gốc): \", predictions_original_scale)\n"
      ],
      "metadata": {
        "id": "Kf-__m6E8dzD",
        "colab": {
          "base_uri": "https://localhost:8080/"
        },
        "outputId": "cf8b4a4c-dade-4d02-826a-3a10f8ce1e38"
      },
      "execution_count": null,
      "outputs": [
        {
          "output_type": "stream",
          "name": "stdout",
          "text": [
            "   Doanh thu Affilicate (nghìn đồng)  Doanh thu cửa hàng (nghìn đồng)  \\\n",
            "0                          1410000.0                          1940.00   \n",
            "1                          1470000.0                          6770.00   \n",
            "2                          1340000.0                          3130.00   \n",
            "3                          1790000.0                           829.85   \n",
            "4                          1610000.0                             0.00   \n",
            "\n",
            "   Đơn giá bình quân (nghìn đồng)  Lượt bán (nghìn lượt)  \\\n",
            "0                          118.91                  12.35   \n",
            "1                          119.14                  13.32   \n",
            "2                          104.27                  13.50   \n",
            "3                          117.69                  15.97   \n",
            "4                          114.85                  14.81   \n",
            "\n",
            "   Doanh thu tài khoản tự vận hành (nghìn đồng)  \n",
            "0                                       10440.0  \n",
            "1                                       12500.0  \n",
            "2                                       13060.0  \n",
            "3                                       16180.0  \n",
            "4                                       17820.0  \n",
            "Số lượng giá trị NaN còn lại trong mỗi cột:\n",
            " Doanh thu Affilicate (nghìn đồng)               0\n",
            "Doanh thu cửa hàng (nghìn đồng)                 0\n",
            "Đơn giá bình quân (nghìn đồng)                  0\n",
            "Lượt bán (nghìn lượt)                           0\n",
            "Doanh thu tài khoản tự vận hành (nghìn đồng)    0\n",
            "dtype: int64\n",
            "Epoch [10/100], Loss: 0.1441\n",
            "Epoch [20/100], Loss: 0.0932\n",
            "Epoch [30/100], Loss: 0.0770\n",
            "Epoch [40/100], Loss: 0.0710\n",
            "Epoch [50/100], Loss: 0.0700\n",
            "Epoch [60/100], Loss: 0.0688\n",
            "Epoch [70/100], Loss: 0.0677\n",
            "Epoch [80/100], Loss: 0.0665\n",
            "Epoch [90/100], Loss: 0.0653\n",
            "Epoch [100/100], Loss: 0.0637\n",
            "Dự đoán cho 3 ngày tiếp theo (giá trị gốc):  [[3.6682172e+06 4.8556531e+05 9.4462570e+01 1.2454405e+01 2.3010525e+04]\n",
            " [3.7406408e+06 6.2678319e+05 9.5080376e+01 1.2255045e+01 2.2495361e+04]\n",
            " [3.7496800e+06 8.2230050e+05 9.5389290e+01 1.2237813e+01 2.2512273e+04]]\n"
          ]
        }
      ]
    },
    {
      "cell_type": "code",
      "source": [
        "import matplotlib.pyplot as plt\n",
        "\n",
        "# Giả sử y_test là dữ liệu thực tế của bạn\n",
        "# Chuyển đổi y_test về thang đo gốc\n",
        "y_test_original_scale = scaler.inverse_transform(y_test)\n",
        "\n",
        "# Vẽ biểu đồ\n",
        "plt.figure(figsize=(12, 6))\n",
        "plt.plot(y_test_original_scale[:, 0], label='Giá trị thực tế Doanh thu Affilicate', color='blue')\n",
        "plt.plot(range(len(y_test_original_scale), len(y_test_original_scale) + 3), predictions_original_scale[:, 0], label='Dự đoán Doanh thu Affilicate', color='red', marker='o')\n",
        "plt.title('So sánh Giá trị Thực tế và Dự đoán Doanh thu Affilicate')\n",
        "plt.xlabel('Thời gian (ngày)')\n",
        "plt.ylabel('Doanh thu (nghìn đồng)')\n",
        "plt.legend()\n",
        "plt.show()\n"
      ],
      "metadata": {
        "colab": {
          "base_uri": "https://localhost:8080/",
          "height": 565
        },
        "id": "mVJAf0YVZT6b",
        "outputId": "4c4af822-5c58-4da4-ae19-71fb5b31e613"
      },
      "execution_count": null,
      "outputs": [
        {
          "output_type": "display_data",
          "data": {
            "text/plain": [
              "<Figure size 1200x600 with 1 Axes>"
            ],
            "image/png": "[encoded data removed]"
          },
          "metadata": {}
        }
      ]
    }
  ]
}